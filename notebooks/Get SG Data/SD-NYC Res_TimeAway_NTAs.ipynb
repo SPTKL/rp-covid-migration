{
 "cells": [
  {
   "cell_type": "markdown",
   "metadata": {},
   "source": [
    "## NYC NTA table for bucketed time away from home by day\n",
    "##### Output is large Excel table with all NTAs by day, total devices counted for bucketed_time_away, devices away for more than >1321 mins (i.e. 22 hours), devices away for < 20 min, and calculated share of devices away from home for >1321 min of devices counted in bucketed time away"
   ]
  },
  {
   "cell_type": "code",
   "execution_count": 1,
   "metadata": {},
   "outputs": [],
   "source": [
    "import pandas as pd\n",
    "import numpy as np\n",
    "import s3fs\n",
    "import os\n",
    "import time"
   ]
  },
  {
   "cell_type": "code",
   "execution_count": 2,
   "metadata": {},
   "outputs": [],
   "source": [
    "from geo import stco,sub\n",
    "from safegraph_py_functions import safegraph_py_functions as sgpy"
   ]
  },
  {
   "cell_type": "code",
   "execution_count": 3,
   "metadata": {},
   "outputs": [],
   "source": [
    "%load_ext dotenv\n",
    "%dotenv\n",
    "myAccessKey = os.getenv('myAccessKey')\n",
    "mySecretKey = os.getenv('mySecretKey')\n",
    "\n",
    "start = time.time()"
   ]
  },
  {
   "cell_type": "code",
   "execution_count": 4,
   "metadata": {
    "scrolled": true
   },
   "outputs": [],
   "source": [
    "pd.set_option('display.max_columns', None)\n",
    "pd.set_option('display.max_rows', None)"
   ]
  },
  {
   "cell_type": "code",
   "execution_count": 5,
   "metadata": {},
   "outputs": [],
   "source": [
    "# read nyc origin cbgs & geoxwalk doc\n",
    "cbg_nyc = pd.read_csv(f'../data/nyc_cbg.csv')\n",
    "nta_nyc = pd.read_excel(f'../data/nyc_geo_xwalk.xlsx')"
   ]
  },
  {
   "cell_type": "code",
   "execution_count": 6,
   "metadata": {},
   "outputs": [],
   "source": [
    "# specify the SG key and secret\n",
    "fs = s3fs.S3FileSystem(profile=\"safegraphws\", key=myAccessKey, secret=mySecretKey, client_kwargs={'endpoint_url': 'https://s3.wasabisys.com', 'region_name':'us-east-1'})"
   ]
  },
  {
   "cell_type": "markdown",
   "metadata": {},
   "source": [
    "## RUNNING FOR 2019 ONLY"
   ]
  },
  {
   "cell_type": "code",
   "execution_count": 7,
   "metadata": {},
   "outputs": [],
   "source": [
    "y = \"2019\"\n",
    "#years = [\"2019\",\"2020\"]\n",
    "\n",
    "monthList =[\"01\",\"02\",\"03\",\"04\",\"05\",\"06\",\"07\",\"08\"]\n",
    "dayNumList =[31, 28, 31, 30, 31, 30, 31,31] \n",
    "dayList =[\"01\",\"02\",\"03\",\"04\",\"05\",\"06\",\"07\",\"08\",\"09\",\"10\",\"11\",\"12\",\"13\",\"14\",\"15\",\"16\",\"17\",\"18\",\"19\",\"20\",\"21\",\"22\",\"23\",\"24\",\"25\",\"26\",\"27\",\"28\",\"29\",\"30\",\"31\"]"
   ]
  },
  {
   "cell_type": "code",
   "execution_count": 8,
   "metadata": {},
   "outputs": [],
   "source": [
    "#Run an iteration to unpack the bucketed time away from home"
   ]
  },
  {
   "cell_type": "code",
   "execution_count": 9,
   "metadata": {},
   "outputs": [
    {
     "name": "stdout",
     "output_type": "stream",
     "text": [
      "2019-01-01\n",
      "2019-01-02\n",
      "2019-01-03\n",
      "2019-01-04\n",
      "2019-01-05\n",
      "2019-01-06\n",
      "2019-01-07\n",
      "2019-01-08\n",
      "2019-01-09\n",
      "2019-01-10\n",
      "2019-01-11\n",
      "2019-01-12\n",
      "2019-01-13\n",
      "2019-01-14\n",
      "2019-01-15\n",
      "2019-01-16\n",
      "2019-01-17\n",
      "2019-01-18\n",
      "2019-01-19\n",
      "2019-01-20\n",
      "2019-01-21\n",
      "2019-01-22\n",
      "2019-01-23\n",
      "2019-01-24\n",
      "2019-01-25\n",
      "2019-01-26\n",
      "2019-01-27\n",
      "2019-01-28\n",
      "2019-01-29\n",
      "2019-01-30\n",
      "2019-01-31\n",
      "2019-02-01\n",
      "2019-02-02\n",
      "2019-02-03\n",
      "2019-02-04\n",
      "2019-02-05\n",
      "2019-02-06\n",
      "2019-02-07\n",
      "2019-02-08\n",
      "2019-02-09\n",
      "2019-02-10\n",
      "2019-02-11\n",
      "2019-02-12\n",
      "2019-02-13\n",
      "2019-02-14\n",
      "2019-02-15\n",
      "2019-02-16\n",
      "2019-02-17\n",
      "2019-02-18\n",
      "2019-02-19\n",
      "2019-02-20\n",
      "2019-02-21\n",
      "2019-02-22\n",
      "2019-02-23\n",
      "2019-02-24\n",
      "2019-02-25\n",
      "2019-02-26\n",
      "2019-02-27\n",
      "2019-02-28\n",
      "2019-03-01\n",
      "2019-03-02\n",
      "2019-03-03\n",
      "2019-03-04\n",
      "2019-03-05\n",
      "2019-03-06\n",
      "2019-03-07\n",
      "2019-03-08\n",
      "2019-03-09\n",
      "2019-03-10\n",
      "2019-03-11\n",
      "2019-03-12\n",
      "2019-03-13\n",
      "2019-03-14\n",
      "2019-03-15\n",
      "2019-03-16\n",
      "2019-03-17\n",
      "2019-03-18\n",
      "2019-03-19\n",
      "2019-03-20\n",
      "2019-03-21\n",
      "2019-03-22\n",
      "2019-03-23\n",
      "2019-03-24\n",
      "2019-03-25\n",
      "2019-03-26\n",
      "2019-03-27\n",
      "2019-03-28\n",
      "2019-03-29\n",
      "2019-03-30\n",
      "2019-03-31\n",
      "2019-04-01\n",
      "2019-04-02\n",
      "2019-04-03\n",
      "2019-04-04\n",
      "2019-04-05\n",
      "2019-04-06\n",
      "2019-04-07\n",
      "2019-04-08\n",
      "2019-04-09\n",
      "2019-04-10\n",
      "2019-04-11\n",
      "2019-04-12\n",
      "2019-04-13\n",
      "2019-04-14\n",
      "2019-04-15\n",
      "2019-04-16\n",
      "2019-04-17\n",
      "2019-04-18\n",
      "2019-04-19\n",
      "2019-04-20\n",
      "2019-04-21\n",
      "2019-04-22\n",
      "2019-04-23\n",
      "2019-04-24\n",
      "2019-04-25\n",
      "2019-04-26\n",
      "2019-04-27\n",
      "2019-04-28\n",
      "2019-04-29\n",
      "2019-04-30\n",
      "2019-05-01\n",
      "2019-05-02\n",
      "2019-05-03\n",
      "2019-05-04\n",
      "2019-05-05\n",
      "2019-05-06\n",
      "2019-05-07\n",
      "2019-05-08\n",
      "2019-05-09\n",
      "2019-05-10\n",
      "2019-05-11\n",
      "2019-05-12\n",
      "2019-05-13\n",
      "2019-05-14\n",
      "2019-05-15\n",
      "2019-05-16\n",
      "2019-05-17\n",
      "2019-05-18\n",
      "2019-05-19\n",
      "2019-05-20\n",
      "2019-05-21\n",
      "2019-05-22\n",
      "2019-05-23\n",
      "2019-05-24\n",
      "2019-05-25\n",
      "2019-05-26\n",
      "2019-05-27\n",
      "2019-05-28\n",
      "2019-05-29\n",
      "2019-05-30\n",
      "2019-05-31\n",
      "2019-06-01\n",
      "2019-06-02\n",
      "2019-06-03\n",
      "2019-06-04\n",
      "2019-06-05\n",
      "2019-06-06\n",
      "2019-06-07\n",
      "2019-06-08\n",
      "2019-06-09\n",
      "2019-06-10\n",
      "2019-06-11\n",
      "2019-06-12\n",
      "2019-06-13\n",
      "2019-06-14\n",
      "2019-06-15\n",
      "2019-06-16\n",
      "2019-06-17\n",
      "2019-06-18\n",
      "2019-06-19\n",
      "2019-06-20\n",
      "2019-06-21\n",
      "2019-06-22\n",
      "2019-06-23\n",
      "2019-06-24\n",
      "2019-06-25\n",
      "2019-06-26\n",
      "2019-06-27\n",
      "2019-06-28\n",
      "2019-06-29\n",
      "2019-06-30\n",
      "2019-07-01\n",
      "2019-07-02\n",
      "2019-07-03\n",
      "2019-07-04\n",
      "2019-07-05\n",
      "2019-07-06\n",
      "2019-07-07\n",
      "2019-07-08\n",
      "2019-07-09\n",
      "2019-07-10\n",
      "2019-07-11\n",
      "2019-07-12\n",
      "2019-07-13\n",
      "2019-07-14\n",
      "2019-07-15\n",
      "2019-07-16\n",
      "2019-07-17\n",
      "2019-07-18\n",
      "2019-07-19\n",
      "2019-07-20\n",
      "2019-07-21\n",
      "2019-07-22\n",
      "2019-07-23\n",
      "2019-07-24\n",
      "2019-07-25\n",
      "2019-07-26\n",
      "2019-07-27\n",
      "2019-07-28\n",
      "2019-07-29\n",
      "2019-07-30\n",
      "2019-07-31\n",
      "2019-08-01\n",
      "2019-08-02\n",
      "2019-08-03\n",
      "2019-08-04\n",
      "2019-08-05\n",
      "2019-08-06\n",
      "2019-08-07\n",
      "2019-08-08\n",
      "2019-08-09\n",
      "2019-08-10\n",
      "2019-08-11\n",
      "2019-08-12\n",
      "2019-08-13\n",
      "2019-08-14\n",
      "2019-08-15\n",
      "2019-08-16\n",
      "2019-08-17\n",
      "2019-08-18\n",
      "2019-08-19\n",
      "2019-08-20\n",
      "2019-08-21\n",
      "2019-08-22\n",
      "2019-08-23\n",
      "2019-08-24\n",
      "2019-08-25\n",
      "2019-08-26\n",
      "2019-08-27\n",
      "2019-08-28\n",
      "2019-08-29\n",
      "2019-08-30\n",
      "2019-08-31\n"
     ]
    }
   ],
   "source": [
    "frames = [] \n",
    "for m in range(0,8):\n",
    "    for d in range(0,dayNumList[m]):\n",
    "        with fs.open(f'sg-c19-response/social-distancing/v2/{y}/{monthList[m]}/{dayList[d]}/{y}-{monthList[m]}-{dayList[d]}-social-distancing.csv.gz','rb') as f:\n",
    "            print(f'{y}-{monthList[m]}-{dayList[d]}')\n",
    "            # read SG's file\n",
    "            df = pd.read_csv(f, escapechar='\\\\', compression='gzip')\n",
    "            # filter NYC's Origin CBGs\n",
    "            df = pd.merge(nta_nyc, df, left_on=\"orig_cbg\", right_on=\"origin_census_block_group\", how=\"inner\")\n",
    "\n",
    "            #unpack json bucketed time away from home\n",
    "            df = sgpy.unpack_json_and_merge(df, json_column='bucketed_away_from_home_time', key_col_name='away_from_home_time', value_col_name='away_count')\n",
    "            \n",
    "            ##Make new columns\n",
    "            df['date_y-m-d'] = df['date_range_start'].str[:10]\n",
    "            #Make new table with select columns\n",
    "            dff = df[['date_y-m-d','orig_nta','away_from_home_time','away_count']]\n",
    "            frames.append(dff) "
   ]
  },
  {
   "cell_type": "code",
   "execution_count": 10,
   "metadata": {
    "scrolled": true
   },
   "outputs": [],
   "source": [
    "df_away = pd.concat(frames)\n",
    "df_away = pd.pivot_table(df_away,values=['away_count'],index=['date_y-m-d','orig_nta'],columns=['away_from_home_time'],aggfunc=np.sum,fill_value=0,margins=True)"
   ]
  },
  {
   "cell_type": "code",
   "execution_count": 11,
   "metadata": {},
   "outputs": [],
   "source": [
    "df_away.columns = df_away.columns.get_level_values(1)\n",
    "df_away = df_away.reset_index()"
   ]
  },
  {
   "cell_type": "code",
   "execution_count": 12,
   "metadata": {},
   "outputs": [
    {
     "ename": "SyntaxError",
     "evalue": "cannot assign to operator (<ipython-input-12-64b4b52fd1ae>, line 2)",
     "output_type": "error",
     "traceback": [
      "\u001b[0;36m  File \u001b[0;32m\"<ipython-input-12-64b4b52fd1ae>\"\u001b[0;36m, line \u001b[0;32m2\u001b[0m\n\u001b[0;31m    df_away_reduced.loc[:,'1321-1440']/df_away_reduced.loc[:,'All'] = df_away_reduced['pct_away_1321-1440']\u001b[0m\n\u001b[0m    ^\u001b[0m\n\u001b[0;31mSyntaxError\u001b[0m\u001b[0;31m:\u001b[0m cannot assign to operator\n"
     ]
    }
   ],
   "source": [
    "df_away_reduced = df_away[['date_y-m-d', 'orig_nta','All','1321-1440','<20']]\n",
    "df_away_reduced.loc[:,'1321-1440']/df_away_reduced.loc[:,'All'] = df_away_reduced['pct_away_1321-1440']"
   ]
  },
  {
   "cell_type": "code",
   "execution_count": null,
   "metadata": {
    "scrolled": true
   },
   "outputs": [],
   "source": [
    "df_away_reduced.to_excel(f'output/dara/Time Away/2019_time-away-reduced.xlsx')"
   ]
  },
  {
   "cell_type": "code",
   "execution_count": null,
   "metadata": {
    "scrolled": true
   },
   "outputs": [],
   "source": [
    "end = time.time()\n",
    "elapsed = end - start\n",
    "print(f'Run time - {elapsed} seconds')"
   ]
  },
  {
   "cell_type": "code",
   "execution_count": null,
   "metadata": {},
   "outputs": [],
   "source": [
    "df_away_reduced.head(20)"
   ]
  }
 ],
 "metadata": {
  "kernelspec": {
   "display_name": "Python 3",
   "language": "python",
   "name": "python3"
  },
  "language_info": {
   "codemirror_mode": {
    "name": "ipython",
    "version": 3
   },
   "file_extension": ".py",
   "mimetype": "text/x-python",
   "name": "python",
   "nbconvert_exporter": "python",
   "pygments_lexer": "ipython3",
   "version": "3.8.3"
  }
 },
 "nbformat": 4,
 "nbformat_minor": 2
}
