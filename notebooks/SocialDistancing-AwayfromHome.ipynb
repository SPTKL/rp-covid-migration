{
 "cells": [
  {
   "cell_type": "markdown",
   "metadata": {},
   "source": [
    "## Generate a table for NYC geographies by device count and time away from home"
   ]
  },
  {
   "cell_type": "code",
   "execution_count": 1,
   "metadata": {},
   "outputs": [],
   "source": [
    "import pandas as pd\n",
    "import numpy as np\n",
    "import s3fs\n",
    "import os\n",
    "import time"
   ]
  },
  {
   "cell_type": "code",
   "execution_count": 2,
   "metadata": {},
   "outputs": [],
   "source": [
    "from geo import stco,sub\n",
    "from safegraph_py_functions import safegraph_py_functions as sgpy"
   ]
  },
  {
   "cell_type": "code",
   "execution_count": 3,
   "metadata": {},
   "outputs": [],
   "source": [
    "%load_ext dotenv\n",
    "%dotenv\n",
    "myAccessKey = os.getenv('myAccessKey')\n",
    "mySecretKey = os.getenv('mySecretKey')\n",
    "\n",
    "start = time.time()"
   ]
  },
  {
   "cell_type": "code",
   "execution_count": 4,
   "metadata": {
    "scrolled": true
   },
   "outputs": [],
   "source": [
    "pd.set_option('display.max_columns', None)\n",
    "pd.set_option('display.max_rows', None)"
   ]
  },
  {
   "cell_type": "code",
   "execution_count": 5,
   "metadata": {},
   "outputs": [],
   "source": [
    "#read raw data for nyc origin cbgs\n",
    "cbg_nyc = pd.read_csv('../data/nyc_cbg.csv')"
   ]
  },
  {
   "cell_type": "code",
   "execution_count": 6,
   "metadata": {},
   "outputs": [],
   "source": [
    "# specify the SG key and secret\n",
    "fs = s3fs.S3FileSystem(profile=\"safegraphws\", key=myAccessKey, secret=mySecretKey, client_kwargs={'endpoint_url': 'https://s3.wasabisys.com', 'region_name':'us-east-1'})"
   ]
  },
  {
   "cell_type": "code",
   "execution_count": 7,
   "metadata": {},
   "outputs": [],
   "source": [
    "#for test\n",
    "month = \"04\"\n",
    "\n",
    "#for iterating through all available\n",
    "monthList =[\"01\",\"02\",\"03\",\"04\",\"05\",\"06\", \"07\",\"08\"]\n",
    "dayNumList =[31, 29, 31, 30, 31, 30, 31]\n",
    "years = [\"2019\",\"2020\"]\n",
    "dayList =[\"01\",\"02\",\"03\",\"04\",\"05\",\"06\",\"07\",\"08\",\"09\",\"10\",\"11\",\"12\",\"13\",\"14\",\"15\",\"16\",\"17\",\"18\",\"19\",\"20\",\"21\",\"22\",\"23\",\"24\",\"25\",\"26\",\"27\",\"28\",\"29\",\"30\",\"31\"]"
   ]
  },
  {
   "cell_type": "code",
   "execution_count": null,
   "metadata": {
    "scrolled": false
   },
   "outputs": [
    {
     "name": "stdout",
     "output_type": "stream",
     "text": [
      "2019-04-01\n",
      "2019-04-02\n",
      "2019-04-03\n",
      "2019-04-04\n",
      "2019-04-05\n",
      "2019-04-06\n",
      "2019-04-07\n",
      "2019-04-08\n",
      "2019-04-09\n",
      "2019-04-10\n",
      "2019-04-11\n",
      "2019-04-12\n",
      "2019-04-13\n",
      "2019-04-14\n",
      "2019-04-15\n",
      "2019-04-16\n",
      "2019-04-17\n",
      "2019-04-18\n",
      "2019-04-19\n",
      "2019-04-20\n",
      "2019-04-21\n",
      "2019-04-22\n",
      "2019-04-23\n",
      "2019-04-24\n"
     ]
    }
   ],
   "source": [
    "##Test Month: Year over Year Comparison\n",
    "frames = []\n",
    "for y in years:\n",
    "    for i in range(0,30):\n",
    "        with fs.open(f'sg-c19-response/social-distancing/v2/{y}/{month}/{dayList[i]}/{y}-{month}-{dayList[i]}-social-distancing.csv.gz','rb') as f:\n",
    "            print(f'{y}-{month}-{dayList[i]}')\n",
    "            # read SG's file\n",
    "            df = pd.read_csv(f, escapechar='\\\\', compression='gzip')\n",
    "            # filter NYC's Origin CBGs\n",
    "            df = pd.merge(cbg_nyc, df, left_on=\"orig_cbg\", right_on=\"origin_census_block_group\", how=\"inner\")\n",
    "\n",
    "            #unpack json destination cbgs\n",
    "            df = sgpy.unpack_json_and_merge(df, json_column='bucketed_away_from_home_time', key_col_name='away_from_home_time', value_col_name='time_away_count')\n",
    "\n",
    "            #Clean up & make new analysis columns\n",
    "            df['orig_cbg'] = df['orig_cbg'].apply(str)\n",
    "            #df['orig_tract'] = df['orig_cbg'].str[:-1]\n",
    "            df['orig_stco'] = df['orig_cbg'].str[:5]\n",
    "            df['date_y-m-d'] = df['date_range_start'].str[:10]\n",
    "\n",
    "            #Make new table with select columns & pick geo for analysis\n",
    "            dff = df[['orig_stco','date_y-m-d','away_from_home_time','time_away_count']]\n",
    "            frames.append(dff)\n",
    " \n",
    "    #mid = time.time()\n",
    "    #elapsed_mid = mid - start\n",
    "    #print(f'Mid run time - {elapsed_mid}')"
   ]
  },
  {
   "cell_type": "code",
   "execution_count": null,
   "metadata": {},
   "outputs": [],
   "source": [
    "dff = pd.concat(frames)"
   ]
  },
  {
   "cell_type": "code",
   "execution_count": null,
   "metadata": {},
   "outputs": [],
   "source": [
    "dfff = pd.pivot_table(dff,values=['time_away_count'],index=['orig_stco','date_y-m-d'],columns=['away_from_home_time'],aggfunc=np.sum,fill_value=0,margins=True)"
   ]
  },
  {
   "cell_type": "code",
   "execution_count": null,
   "metadata": {},
   "outputs": [],
   "source": [
    "dfff.head()"
   ]
  },
  {
   "cell_type": "code",
   "execution_count": null,
   "metadata": {},
   "outputs": [],
   "source": [
    "dfff.to_csv(f'output/{month}_test.csv')"
   ]
  },
  {
   "cell_type": "code",
   "execution_count": null,
   "metadata": {},
   "outputs": [],
   "source": [
    "end = time.time()\n",
    "elapsed = end - start\n",
    "print(f'Run time - {elapsed} seconds')"
   ]
  }
 ],
 "metadata": {
  "kernelspec": {
   "display_name": "Python 3",
   "language": "python",
   "name": "python3"
  },
  "language_info": {
   "codemirror_mode": {
    "name": "ipython",
    "version": 3
   },
   "file_extension": ".py",
   "mimetype": "text/x-python",
   "name": "python",
   "nbconvert_exporter": "python",
   "pygments_lexer": "ipython3",
   "version": "3.8.3"
  }
 },
 "nbformat": 4,
 "nbformat_minor": 2
}
