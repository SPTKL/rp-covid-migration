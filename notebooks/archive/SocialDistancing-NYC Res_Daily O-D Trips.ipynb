{
 "cells": [
  {
   "cell_type": "markdown",
   "metadata": {},
   "source": [
    "## Produce daily Origin-Destination trip matrix for NYC resident cbgs\n",
    "\n",
    "##### Can aggregate to different NYC geo summary levels and destination geo summary levels, separates visits to home cbg\n",
    "##### Output is daily csv o-d matrices"
   ]
  },
  {
   "cell_type": "code",
   "execution_count": null,
   "metadata": {},
   "outputs": [],
   "source": [
    "import pandas as pd\n",
    "import numpy as np\n",
    "import s3fs\n",
    "import os\n",
    "import time"
   ]
  },
  {
   "cell_type": "code",
   "execution_count": null,
   "metadata": {},
   "outputs": [],
   "source": [
    "from geo import stco,sub\n",
    "from safegraph_py_functions import safegraph_py_functions as sgpy"
   ]
  },
  {
   "cell_type": "code",
   "execution_count": null,
   "metadata": {},
   "outputs": [],
   "source": [
    "%load_ext dotenv\n",
    "%dotenv\n",
    "myAccessKey = os.getenv('myAccessKey')\n",
    "mySecretKey = os.getenv('mySecretKey')\n",
    "\n",
    "start = time.time()"
   ]
  },
  {
   "cell_type": "code",
   "execution_count": null,
   "metadata": {
    "scrolled": true
   },
   "outputs": [],
   "source": [
    "pd.set_option('display.max_columns', None)\n",
    "pd.set_option('display.max_rows', None)"
   ]
  },
  {
   "cell_type": "code",
   "execution_count": null,
   "metadata": {},
   "outputs": [],
   "source": [
    "# read nyc origin cbgs\n",
    "cbg_nyc = pd.read_csv(f'../data/nyc_cbg.csv')"
   ]
  },
  {
   "cell_type": "code",
   "execution_count": null,
   "metadata": {},
   "outputs": [],
   "source": [
    "# specify the SG key and secret\n",
    "fs = s3fs.S3FileSystem(profile=\"safegraphws\", key=myAccessKey, secret=mySecretKey, client_kwargs={'endpoint_url': 'https://s3.wasabisys.com', 'region_name':'us-east-1'})"
   ]
  },
  {
   "cell_type": "code",
   "execution_count": null,
   "metadata": {},
   "outputs": [],
   "source": [
    "# set date variables, in this case, a test month for 2 different years\n",
    "month = \"04\"\n",
    "years = [\"2019\",\"2020\"]\n",
    "dayList =[\"01\",\"02\",\"03\",\"04\",\"05\",\"06\",\"07\",\"08\",\"09\",\"10\",\"11\",\"12\",\"13\",\"14\",\"15\",\"16\",\"17\",\"18\",\"19\",\"20\",\"21\",\"22\",\"23\",\"24\",\"25\",\"26\",\"27\",\"28\",\"29\",\"30\",\"31\"]\n",
    "\n",
    "# If running all days and months - replace range and adjust for loop to run through lists below:\n",
    "#monthList =[\"01\",\"02\",\"03\",\"04\",\"05\",\"06\",\"07\",\"08\"]\n",
    "#dayNumList =[31, 29, 31, 30, 31, 30, 31,31] "
   ]
  },
  {
   "cell_type": "code",
   "execution_count": null,
   "metadata": {},
   "outputs": [],
   "source": [
    "## Test month - individual days for year-over-year comparison\n",
    "\n",
    "#frames = [] \\can add if using loop\n",
    "for y in years:\n",
    "    for i in range(0,30):\n",
    "        with fs.open(f'sg-c19-response/social-distancing/v2/{y}/{month}/{dayList[i]}/{y}-{month}-{dayList[i]}-social-distancing.csv.gz','rb') as f:\n",
    "            print(f'{y}-{month}-{dayList[i]}')\n",
    "            # read SG's file\n",
    "            df = pd.read_csv(f, escapechar='\\\\', compression='gzip')\n",
    "            # filter NYC's Origin CBGs\n",
    "            df = pd.merge(cbg_nyc, df, left_on=\"orig_cbg\", right_on=\"origin_census_block_group\", how=\"inner\")\n",
    "\n",
    "            #unpack json destination cbgs\n",
    "            df = sgpy.unpack_json_and_merge(df, json_column='destination_cbgs', key_col_name='destination_cbg', value_col_name='dest_cbg_count')\n",
    "\n",
    "            ##Make new columns\n",
    "            df['orig_cbg'] = df['orig_cbg'].apply(str) #clean origin cbg\n",
    "            #separate home trips from other trips for later aggregation\n",
    "            df['is_home'] = df.apply(lambda x: x['orig_cbg']==x['destination_cbg'],axis=1)\n",
    "            #id destinations by county fips\n",
    "            df['dest_stco_all'] = df['destination_cbg'].str[:5]\n",
    "            #id 31cr counties and all others outside\n",
    "            df['dest_stco_reg'] = df['dest_stco_all'] \n",
    "            df.loc[~df['dest_stco_reg'].isin(stco),'dest_stco_reg'] = 'O31CR' \n",
    "            df['dest_sub'] = df['dest_stco_all'].map(sub).fillna('O31CR')\n",
    "\n",
    "            #Make new table with select columns\n",
    "            dff = df[['orig_stco','dest_cbg_count','dest_stco_reg','dest_sub','is_home']]\n",
    "            dff = dff.groupby(['dest_stco_reg','dest_sub','orig_stco','is_home']).agg({'dest_cbg_count':np.sum}).reset_index()\n",
    "            dff = pd.pivot_table(dff,values=['dest_cbg_count'],index='dest_stco_reg',columns=['orig_stco','is_home'],aggfunc=np.sum,fill_value=0)\n",
    "\n",
    "            dff.to_csv(f'output/{month}_test/{y}-{month}{dayList[i]}.csv')\n",
    "            \n",
    "            #mid = time.time()\n",
    "            #elapsed_mid = mid - start\n",
    "            #print(f'Mid run time - {elapsed_mid}')"
   ]
  },
  {
   "cell_type": "code",
   "execution_count": null,
   "metadata": {},
   "outputs": [],
   "source": [
    "end = time.time()\n",
    "elapsed = end - start\n",
    "print(f'Run time - {elapsed} seconds')"
   ]
  }
 ],
 "metadata": {
  "kernelspec": {
   "display_name": "Python 3",
   "language": "python",
   "name": "python3"
  },
  "language_info": {
   "codemirror_mode": {
    "name": "ipython",
    "version": 3
   },
   "file_extension": ".py",
   "mimetype": "text/x-python",
   "name": "python",
   "nbconvert_exporter": "python",
   "pygments_lexer": "ipython3",
   "version": "3.8.3"
  }
 },
 "nbformat": 4,
 "nbformat_minor": 2
}
