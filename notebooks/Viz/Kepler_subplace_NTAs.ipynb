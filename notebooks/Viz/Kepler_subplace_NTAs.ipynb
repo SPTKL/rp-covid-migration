{
 "cells": [
  {
   "cell_type": "markdown",
   "metadata": {},
   "source": [
    "## Converting mobility measures into centorids for Kepler interaction"
   ]
  },
  {
   "cell_type": "markdown",
   "metadata": {},
   "source": [
    "#### Creating Centroid Subplaces for Boroughs, Manhattan is in `Kepler_USA` notebook."
   ]
  },
  {
   "cell_type": "code",
   "execution_count": 1,
   "metadata": {},
   "outputs": [
    {
     "data": {
      "text/html": [
       "<style>.container { width:88% !important; }</style>"
      ],
      "text/plain": [
       "<IPython.core.display.HTML object>"
      ]
     },
     "metadata": {},
     "output_type": "display_data"
    }
   ],
   "source": [
    "# make display wider\n",
    "from IPython.core.display import display, HTML\n",
    "display(HTML(\"<style>.container { width:88% !important; }</style>\"))"
   ]
  },
  {
   "cell_type": "code",
   "execution_count": 2,
   "metadata": {},
   "outputs": [],
   "source": [
    "# read in packages\n",
    "%matplotlib inline\n",
    "import pandas as pd\n",
    "import json\n",
    "import geopandas as gpd\n",
    "import numpy as np\n",
    "from shapely import wkt\n",
    "import os\n",
    "from keplergl import KeplerGl"
   ]
  },
  {
   "cell_type": "code",
   "execution_count": null,
   "metadata": {},
   "outputs": [],
   "source": [
    "# allow max rows and colums to be displayed\n",
    "pd.set_option('display.max_columns', None)\n",
    "pd.set_option('display.max_rows', None)\n",
    "os.chdir(r'C:\\Users\\steve\\GitHub\\rp-covid-migration')"
   ]
  },
  {
   "cell_type": "code",
   "execution_count": null,
   "metadata": {},
   "outputs": [],
   "source": [
    "subplaces = r'data/shapefiles/nyc_subplace_centroid.geojson'\n",
    "subplaces = gpd.read_file(subplaces)\n",
    "subplaces.head()"
   ]
  },
  {
   "cell_type": "code",
   "execution_count": null,
   "metadata": {},
   "outputs": [],
   "source": [
    "bk_df = pd.read_csv(r'data/dest_bkxsubpl_daily_01-09-2020.csv')\n",
    "bx_df = pd.read_csv(r'data/dest_bxxsubpl_daily_01-09-2020.csv')\n",
    "qn_df = pd.read_csv(r'data/dest_qnxsubpl_daily_01-09-2020.csv')\n",
    "si_df = pd.read_csv(r'data/dest_sixsubpl_daily_01-09-2020.csv')\n",
    "decimals = 0\n",
    "brooklyn = 'brooklyn'\n",
    "bronx = 'bronx'\n",
    "queens = 'queens'\n",
    "staten = 'staten'\n",
    "def clean_counties(df, county):\n",
    "    # alter file, convert geoid field to string\n",
    "    df = df.rename(columns={'dest_subpl':'id'})\n",
    "    df['id'] = df['id'].str[1:]\n",
    "    list_date = df.columns.to_list()\n",
    "    list_date = list_date[1:]  \n",
    "\n",
    "    df = pd.melt(df, id_vars=['id'],value_vars = list_date)\n",
    "\n",
    "    df['variable'] = pd.to_datetime(df['variable'])\n",
    "    df = pd.merge(subplaces, df, left_on='GEOID', right_on='id', how = \"inner\")\n",
    "    df['date'] = pd.to_datetime(df['variable'])\n",
    "    df['date'] = df[\"date\"].dt.strftime('%m/%d/%Y')\n",
    "    df['datetime'] = df['date'].astype(str) + ' 0:00'\n",
    "    #df_centroid.drop(columns = 'geometry')\n",
    "    #df['geom'] = df['geom'].apply(wkt.loads)\n",
    "    df['value'] = df['value'].astype(float)\n",
    "    df['value'] = df['value'].apply(lambda x: round(x, decimals)) # round to nearest whole num\n",
    "    df['value'] = df['value'].astype(int) # remove decimal\n",
    "    # selecting rows based on value being greater than 0\n",
    "    df = df.loc[df['value'] >= 1] \n",
    "    #renaming tooltip columns for Kepler.gl hover\n",
    "    df = df.rename(columns = {'NAME':'Name','date':'Date','value':'Trips/Device'})\n",
    "    df.to_csv(f'data/{county}_tosubplace.csv', index = False)\n",
    "    return(df.head())"
   ]
  },
  {
   "cell_type": "code",
   "execution_count": null,
   "metadata": {},
   "outputs": [],
   "source": [
    "clean_counties(bk_df, brooklyn)\n",
    "clean_counties(bx_df, bronx)\n",
    "clean_counties(qn_df, queens)\n",
    "clean_counties(si_df, staten)\n"
   ]
  },
  {
   "cell_type": "markdown",
   "metadata": {},
   "source": [
    "#### NTA Conversion to centroids to allow viz in Kepler.gl"
   ]
  },
  {
   "cell_type": "code",
   "execution_count": null,
   "metadata": {},
   "outputs": [],
   "source": [
    "nta = r'data/shapefiles/nynta.geojson'\n",
    "nta = gpd.read_file(nta)\n",
    "# convert to global CRS\n",
    "nta = nta.to_crs(\"EPSG:4326\")\n",
    "nta.crs"
   ]
  },
  {
   "cell_type": "code",
   "execution_count": null,
   "metadata": {},
   "outputs": [],
   "source": [
    "nta['geometry'] = nta.centroid # make centroid\n",
    "nta = nta.set_geometry('geometry')\n",
    "# add independent lat/longs for KeplerGl\n",
    "nta['lon'] = nta['geometry'].x\n",
    "nta['lat'] = nta['geometry'].y\n",
    "#counties.head()\n",
    "nta.to_file(\"data/shapefiles/nta_centroid.geojson\", driver=\"GeoJSON\")"
   ]
  },
  {
   "cell_type": "code",
   "execution_count": null,
   "metadata": {},
   "outputs": [],
   "source": [
    "nta.head()"
   ]
  },
  {
   "cell_type": "code",
   "execution_count": null,
   "metadata": {},
   "outputs": [],
   "source": [
    "away = pd.read_csv(r'data/time_away_ntas_2020.csv')\n",
    "df = pd.merge(nta, away, left_on=\"NTACode\", right_on=\"NTA\", how=\"inner\")\n",
    "df.head()"
   ]
  },
  {
   "cell_type": "code",
   "execution_count": null,
   "metadata": {},
   "outputs": [],
   "source": [
    "\n",
    "list_date = df.columns.to_list() \n",
    "\n",
    "#dff = pd.melt(df, id_vars=['NTA'], value_vars = list_date)\n",
    "df = df.rename(columns={'NTA':'id'}) #rename so the join ids are the same\n",
    "df['id'] = df['id'].str\n",
    "df = pd.melt(df, id_vars=['id'], value_vars = list_date)\n",
    "df['variable'] = pd.to_datetime(df['variable'])\n",
    "df['val_pct'] = df['value']*100 # convert it into percentage\n",
    "df.head()"
   ]
  }
 ],
 "metadata": {
  "kernelspec": {
   "display_name": "Python 3",
   "language": "python",
   "name": "python3"
  },
  "language_info": {
   "codemirror_mode": {
    "name": "ipython",
    "version": 3
   },
   "file_extension": ".py",
   "mimetype": "text/x-python",
   "name": "python",
   "nbconvert_exporter": "python",
   "pygments_lexer": "ipython3",
   "version": "3.7.3"
  }
 },
 "nbformat": 4,
 "nbformat_minor": 2
}
