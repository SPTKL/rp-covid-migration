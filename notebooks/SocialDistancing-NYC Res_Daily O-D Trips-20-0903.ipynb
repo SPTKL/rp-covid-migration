{
 "cells": [
  {
   "cell_type": "markdown",
   "metadata": {},
   "source": [
    "## Produce daily Origin-Destination trip matrix for NYC resident cbgs\n",
    "\n",
    "##### Can aggregate to different NYC geo summary levels and destination geo summary levels, separates visits to home cbg\n",
    "##### Output is daily csv o-d matrices"
   ]
  },
  {
   "cell_type": "code",
   "execution_count": 1,
   "metadata": {},
   "outputs": [],
   "source": [
    "import pandas as pd\n",
    "import numpy as np\n",
    "import s3fs\n",
    "import os\n",
    "import time"
   ]
  },
  {
   "cell_type": "code",
   "execution_count": 2,
   "metadata": {},
   "outputs": [],
   "source": [
    "from geo import stco,sub\n",
    "from safegraph_py_functions import safegraph_py_functions as sgpy"
   ]
  },
  {
   "cell_type": "code",
   "execution_count": 3,
   "metadata": {},
   "outputs": [],
   "source": [
    "%load_ext dotenv\n",
    "%dotenv\n",
    "myAccessKey = os.getenv('myAccessKey')\n",
    "mySecretKey = os.getenv('mySecretKey')\n",
    "\n",
    "start = time.time()"
   ]
  },
  {
   "cell_type": "code",
   "execution_count": 4,
   "metadata": {
    "scrolled": true
   },
   "outputs": [],
   "source": [
    "pd.set_option('display.max_columns', None)\n",
    "pd.set_option('display.max_rows', None)"
   ]
  },
  {
   "cell_type": "code",
   "execution_count": 5,
   "metadata": {},
   "outputs": [],
   "source": [
    "# read nyc origin cbgs\n",
    "cbg_nyc = pd.read_csv(f'../data/nyc_cbg.csv')"
   ]
  },
  {
   "cell_type": "code",
   "execution_count": 6,
   "metadata": {},
   "outputs": [],
   "source": [
    "# specify the SG key and secret\n",
    "fs = s3fs.S3FileSystem(profile=\"safegraphws\", key=myAccessKey, secret=mySecretKey, client_kwargs={'endpoint_url': 'https://s3.wasabisys.com', 'region_name':'us-east-1'})"
   ]
  },
  {
   "cell_type": "code",
   "execution_count": 7,
   "metadata": {},
   "outputs": [],
   "source": [
    "# set date variables, in this case, a test month for 2 different years\n",
    "month = \"01\"\n",
    "years = [\"2019\",\"2020\"]\n",
    "dayList =[\"01\",\"02\",\"03\",\"04\",\"05\",\"06\",\"07\",\"08\",\"09\",\"10\",\"11\",\"12\",\"13\",\"14\",\"15\",\"16\",\"17\",\"18\",\"19\",\"20\",\"21\",\"22\",\"23\",\"24\",\"25\",\"26\",\"27\",\"28\",\"29\",\"30\",\"31\"]\n",
    "\n",
    "# If running all days and months - replace range and adjust for loop to run through lists below:\n",
    "#monthList =[\"01\",\"02\",\"03\",\"04\",\"05\",\"06\",\"07\",\"08\"]\n",
    "#dayNumList =[31, 29, 31, 30, 31, 30, 31,31] "
   ]
  },
  {
   "cell_type": "code",
   "execution_count": 8,
   "metadata": {},
   "outputs": [
    {
     "name": "stdout",
     "output_type": "stream",
     "text": [
      "2019-01-06\n",
      "2019-01-07\n",
      "2019-01-08\n",
      "2020-01-06\n",
      "2020-01-07\n",
      "2020-01-08\n"
     ]
    }
   ],
   "source": [
    "## Test month - individual days for year-over-year comparison\n",
    "\n",
    "frames = []\n",
    "for y in years:\n",
    "    for i in range(5,8):\n",
    "        with fs.open(f'sg-c19-response/social-distancing/v2/{y}/{month}/{dayList[i]}/{y}-{month}-{dayList[i]}-social-distancing.csv.gz','rb') as f:\n",
    "            print(f'{y}-{month}-{dayList[i]}')\n",
    "            # read SG's file\n",
    "            df = pd.read_csv(f, escapechar='\\\\', compression='gzip')\n",
    "            # filter NYC's Origin CBGs\n",
    "            df = pd.merge(cbg_nyc, df, left_on=\"orig_cbg\", right_on=\"origin_census_block_group\", how=\"inner\")\n",
    "\n",
    "            #unpack json destination cbgs\n",
    "            df = sgpy.unpack_json_and_merge(df, json_column='destination_cbgs', key_col_name='destination_cbg', value_col_name='dest_cbg_count')\n",
    "\n",
    "            ##Make new columns\n",
    "            df['orig_cbg'] = df['orig_cbg'].apply(str) #clean origin cbg\n",
    "            df['date_y-m-d'] = df['date_range_start'].str[:10]\n",
    "            #separate home trips from other trips for later aggregation\n",
    "            df['is_home'] = df.apply(lambda x: x['orig_cbg']==x['destination_cbg'],axis=1)\n",
    "            #id destinations by county fips\n",
    "            df['dest_stco_all'] = df['destination_cbg'].str[:5]\n",
    "            #id 31cr counties and all others outside\n",
    "            df['dest_stco_reg'] = df['dest_stco_all'] \n",
    "            df.loc[~df['dest_stco_reg'].isin(stco),'dest_stco_reg'] = 'O31CR' \n",
    "            df['dest_sub'] = df['dest_stco_all'].map(sub).fillna(df['dest_stco_all'].str[:2])\n",
    "\n",
    "            #Make new table with select columns\n",
    "            dff = df[['date_y-m-d','orig_cbg','dest_cbg_count','dest_stco_reg','is_home']]\n",
    "            frames.append(dff)\n",
    "            "
   ]
  },
  {
   "cell_type": "code",
   "execution_count": 9,
   "metadata": {},
   "outputs": [],
   "source": [
    "df_dest = pd.concat(frames)\n",
    "df_dest = pd.pivot_table(df_dest,values=['dest_cbg_count'],index=['date_y-m-d','orig_cbg'],columns=['dest_stco_reg','is_home'],aggfunc=np.sum,\\\n",
    "                         fill_value=0,margins=True)"
   ]
  },
  {
   "cell_type": "code",
   "execution_count": 19,
   "metadata": {},
   "outputs": [
    {
     "name": "stdout",
     "output_type": "stream",
     "text": [
      "2019-01-06\n",
      "2019-01-07\n",
      "2019-01-08\n",
      "2020-01-06\n",
      "2020-01-07\n",
      "2020-01-08\n"
     ]
    }
   ],
   "source": [
    "## Add in total device and completely home device counts\n",
    "frames = []\n",
    "for y in years:\n",
    "    for i in range(5,8):\n",
    "        with fs.open(f'sg-c19-response/social-distancing/v2/{y}/{month}/{dayList[i]}/{y}-{month}-{dayList[i]}-social-distancing.csv.gz','rb') as f:\n",
    "            print(f'{y}-{month}-{dayList[i]}')\n",
    "            # read SG's file\n",
    "            df = pd.read_csv(f, escapechar='\\\\', compression='gzip')\n",
    "            # filter NYC's Origin CBGs\n",
    "            df = pd.merge(cbg_nyc, df, left_on=\"orig_cbg\", right_on=\"origin_census_block_group\", how=\"inner\")\n",
    "\n",
    "            ##Make new columns\n",
    "            df['orig_cbg'] = df['orig_cbg'].apply(str) #clean origin cbg\n",
    "            df['date_y-m-d'] = df['date_range_start'].str[:10]\n",
    "\n",
    "            #Make new table with select columns\n",
    "            dff = df[['date_y-m-d','orig_cbg','device_count','completely_home_device_count']]\n",
    "            frames.append(dff)\n",
    "            "
   ]
  },
  {
   "cell_type": "code",
   "execution_count": 21,
   "metadata": {},
   "outputs": [],
   "source": [
    "df_device = pd.concat(frames)"
   ]
  },
  {
   "cell_type": "code",
   "execution_count": 22,
   "metadata": {},
   "outputs": [
    {
     "data": {
      "text/html": [
       "<div>\n",
       "<style scoped>\n",
       "    .dataframe tbody tr th:only-of-type {\n",
       "        vertical-align: middle;\n",
       "    }\n",
       "\n",
       "    .dataframe tbody tr th {\n",
       "        vertical-align: top;\n",
       "    }\n",
       "\n",
       "    .dataframe thead th {\n",
       "        text-align: right;\n",
       "    }\n",
       "</style>\n",
       "<table border=\"1\" class=\"dataframe\">\n",
       "  <thead>\n",
       "    <tr style=\"text-align: right;\">\n",
       "      <th></th>\n",
       "      <th>date_y-m-d</th>\n",
       "      <th>orig_cbg</th>\n",
       "      <th>device_count</th>\n",
       "      <th>completely_home_device_count</th>\n",
       "    </tr>\n",
       "  </thead>\n",
       "  <tbody>\n",
       "    <tr>\n",
       "      <th>0</th>\n",
       "      <td>2019-01-06</td>\n",
       "      <td>360050001001</td>\n",
       "      <td>13</td>\n",
       "      <td>1</td>\n",
       "    </tr>\n",
       "    <tr>\n",
       "      <th>1</th>\n",
       "      <td>2019-01-06</td>\n",
       "      <td>360050002001</td>\n",
       "      <td>79</td>\n",
       "      <td>47</td>\n",
       "    </tr>\n",
       "    <tr>\n",
       "      <th>2</th>\n",
       "      <td>2019-01-06</td>\n",
       "      <td>360050002002</td>\n",
       "      <td>142</td>\n",
       "      <td>77</td>\n",
       "    </tr>\n",
       "    <tr>\n",
       "      <th>3</th>\n",
       "      <td>2019-01-06</td>\n",
       "      <td>360050002003</td>\n",
       "      <td>93</td>\n",
       "      <td>46</td>\n",
       "    </tr>\n",
       "    <tr>\n",
       "      <th>4</th>\n",
       "      <td>2019-01-06</td>\n",
       "      <td>360050004000</td>\n",
       "      <td>32</td>\n",
       "      <td>7</td>\n",
       "    </tr>\n",
       "  </tbody>\n",
       "</table>\n",
       "</div>"
      ],
      "text/plain": [
       "   date_y-m-d      orig_cbg  device_count  completely_home_device_count\n",
       "0  2019-01-06  360050001001            13                             1\n",
       "1  2019-01-06  360050002001            79                            47\n",
       "2  2019-01-06  360050002002           142                            77\n",
       "3  2019-01-06  360050002003            93                            46\n",
       "4  2019-01-06  360050004000            32                             7"
      ]
     },
     "execution_count": 22,
     "metadata": {},
     "output_type": "execute_result"
    }
   ],
   "source": [
    "df_device.head()"
   ]
  },
  {
   "cell_type": "code",
   "execution_count": 24,
   "metadata": {},
   "outputs": [],
   "source": [
    "df_device = df_device.groupby(['date_y-m-d','orig_cbg']).agg({'device_count':np.sum,'completely_home_device_count':np.sum})"
   ]
  },
  {
   "cell_type": "code",
   "execution_count": 25,
   "metadata": {},
   "outputs": [],
   "source": [
    "df_master = pd.concat([df_device,df_dest],axis=1)\n",
    "df_master = df_master.reset_index()"
   ]
  },
  {
   "cell_type": "code",
   "execution_count": 26,
   "metadata": {},
   "outputs": [],
   "source": [
    "df_master.to_excel(f'output/origdestcbg_check.xlsx')"
   ]
  },
  {
   "cell_type": "code",
   "execution_count": 13,
   "metadata": {},
   "outputs": [
    {
     "name": "stdout",
     "output_type": "stream",
     "text": [
      "Run time - 615.2352719306946 seconds\n"
     ]
    }
   ],
   "source": [
    "end = time.time()\n",
    "elapsed = end - start\n",
    "print(f'Run time - {elapsed} seconds')"
   ]
  }
 ],
 "metadata": {
  "kernelspec": {
   "display_name": "Python 3",
   "language": "python",
   "name": "python3"
  },
  "language_info": {
   "codemirror_mode": {
    "name": "ipython",
    "version": 3
   },
   "file_extension": ".py",
   "mimetype": "text/x-python",
   "name": "python",
   "nbconvert_exporter": "python",
   "pygments_lexer": "ipython3",
   "version": "3.8.3"
  }
 },
 "nbformat": 4,
 "nbformat_minor": 2
}
