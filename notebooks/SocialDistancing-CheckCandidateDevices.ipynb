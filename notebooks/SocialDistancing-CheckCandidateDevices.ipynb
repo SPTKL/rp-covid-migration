{
 "cells": [
  {
   "cell_type": "code",
   "execution_count": null,
   "metadata": {},
   "outputs": [],
   "source": [
    "import pandas as pd\n",
    "import numpy as np\n",
    "import s3fs\n",
    "import os\n",
    "import time"
   ]
  },
  {
   "cell_type": "code",
   "execution_count": null,
   "metadata": {},
   "outputs": [],
   "source": [
    "from geo import stco,sub\n",
    "from safegraph_py_functions import safegraph_py_functions as sgpy"
   ]
  },
  {
   "cell_type": "code",
   "execution_count": null,
   "metadata": {},
   "outputs": [],
   "source": [
    "%load_ext dotenv\n",
    "%dotenv\n",
    "myAccessKey = os.getenv('myAccessKey')\n",
    "mySecretKey = os.getenv('mySecretKey')\n",
    "\n",
    "start = time.time()"
   ]
  },
  {
   "cell_type": "code",
   "execution_count": null,
   "metadata": {
    "scrolled": true
   },
   "outputs": [],
   "source": [
    "pd.set_option('display.max_columns', None)\n",
    "pd.set_option('display.max_rows', None)"
   ]
  },
  {
   "cell_type": "code",
   "execution_count": null,
   "metadata": {},
   "outputs": [],
   "source": [
    "cbg_nyc = pd.read_csv('../data/nyc_cbg.csv')"
   ]
  },
  {
   "cell_type": "code",
   "execution_count": null,
   "metadata": {},
   "outputs": [],
   "source": [
    "# specify the SG key and secret\n",
    "fs = s3fs.S3FileSystem(profile=\"safegraphws\", key=myAccessKey, secret=mySecretKey, client_kwargs={'endpoint_url': 'https://s3.wasabisys.com', 'region_name':'us-east-1'})"
   ]
  },
  {
   "cell_type": "markdown",
   "metadata": {},
   "source": [
    "### Prep county-level table for 2019\n",
    "\n",
    "Records represent individual CBGs (for later aggregation)"
   ]
  },
  {
   "cell_type": "code",
   "execution_count": null,
   "metadata": {},
   "outputs": [],
   "source": [
    "# years, months and days\n",
    "#years = ['2019','2020']\n",
    "monthList =[\"01\",\"02\",\"03\",\"04\",\"05\",\"06\", \"07\",\"08\",\"09\",\"10\",\"11\",\"12\"]\n",
    "dayNumList =[31, 28, 31, 30, 31, 30, 31, 31,30,31,30,31] \n",
    "dayList =[\"01\",\"02\",\"03\",\"04\",\"05\",\"06\",\"07\",\"08\",\"09\",\"10\",\"11\",\"12\",\"13\",\"14\",\"15\",\"16\",\"17\",\"18\",\"19\",\"20\",\"21\",\"22\",\"23\",\"24\",\"25\",\"26\",\"27\",\"28\",\"29\",\"30\",\"31\"]"
   ]
  },
  {
   "cell_type": "code",
   "execution_count": null,
   "metadata": {},
   "outputs": [],
   "source": [
    "##Check candidate device count for 2019\n",
    "frames = []\n",
    "for m in range (0,12):\n",
    "    for d in range(0, dayNumList[m]):\n",
    "        with fs.open(f'sg-c19-response/social-distancing/v2/2019/{monthList[m]}/{dayList[d]}/2019-{monthList[m]}-{dayList[d]}-social-distancing.csv.gz','rb') as f:\n",
    "            print(f'2019-{monthList[m]}-{dayList[d]}')\n",
    "            # read SG's file\n",
    "            df = pd.read_csv(f, escapechar='\\\\', compression='gzip')\n",
    "            # filter NYC's Origin CBGs\n",
    "            dff = pd.merge(cbg_nyc, df, left_on=\"orig_cbg\", right_on=\"origin_census_block_group\", how=\"inner\")\n",
    "            dff['date_y-m-d'] = dff['date_range_start'].str[:10]\n",
    "            frames.append(dff)"
   ]
  },
  {
   "cell_type": "code",
   "execution_count": null,
   "metadata": {
    "scrolled": false
   },
   "outputs": [],
   "source": [
    "df_19 = pd.concat(frames)\n",
    "df_19 = df_19[['date_y-m-d','orig_stco','completely_home_device_count','candidate_device_count','device_count']]"
   ]
  },
  {
   "cell_type": "markdown",
   "metadata": {},
   "source": [
    "### Prep county-level table for 2020\n",
    "\n",
    "Records represent individual CBGs (for later aggregation)"
   ]
  },
  {
   "cell_type": "code",
   "execution_count": null,
   "metadata": {},
   "outputs": [],
   "source": [
    "# updated february day for leap year\n",
    "monthList =[\"01\",\"02\",\"03\",\"04\",\"05\",\"06\", \"07\",\"08\"]\n",
    "dayNumList =[31, 29, 31, 30, 31, 30, 31, 31] "
   ]
  },
  {
   "cell_type": "code",
   "execution_count": null,
   "metadata": {},
   "outputs": [],
   "source": [
    "##Check candidate device count for 2019\n",
    "frames = []\n",
    "for m in range (0,8):\n",
    "    for d in range(0, dayNumList[m]):\n",
    "        with fs.open(f'sg-c19-response/social-distancing/v2/2020/{monthList[m]}/{dayList[d]}/2020-{monthList[m]}-{dayList[d]}-social-distancing.csv.gz','rb') as f:\n",
    "            print(f'2020-{monthList[m]}-{dayList[d]}')\n",
    "            # read SG's file\n",
    "            df = pd.read_csv(f, escapechar='\\\\', compression='gzip')\n",
    "            # filter NYC's Origin CBGs\n",
    "            dff = pd.merge(cbg_nyc, df, left_on=\"orig_cbg\", right_on=\"origin_census_block_group\", how=\"inner\")\n",
    "            dff['date_y-m-d'] = dff['date_range_start'].str[:10]\n",
    "            frames.append(dff)"
   ]
  },
  {
   "cell_type": "code",
   "execution_count": null,
   "metadata": {
    "scrolled": true
   },
   "outputs": [],
   "source": [
    "df_20 = pd.concat(frames)\n",
    "df_20 = df_20[['date_y-m-d','orig_stco','completely_home_device_count','candidate_device_count','device_count']]"
   ]
  },
  {
   "cell_type": "code",
   "execution_count": null,
   "metadata": {},
   "outputs": [],
   "source": [
    "df_20.head(20)"
   ]
  },
  {
   "cell_type": "markdown",
   "metadata": {},
   "source": [
    "### Add 2019 and 2020 tables together"
   ]
  },
  {
   "cell_type": "code",
   "execution_count": null,
   "metadata": {},
   "outputs": [],
   "source": [
    "table = pd.concat([df_19,df_20],axis=0)\n",
    "table.head(20)"
   ]
  },
  {
   "cell_type": "code",
   "execution_count": null,
   "metadata": {},
   "outputs": [],
   "source": [
    "#aggregate all of the block-level outputs to county-level\n",
    "table_co = table.groupby(['date_y-m-d','orig_stco']).agg({'device_count':np.sum,'completely_home_device_count':np.sum,\\\n",
    "                                                    'candidate_device_count':np.sum})"
   ]
  },
  {
   "cell_type": "code",
   "execution_count": null,
   "metadata": {
    "scrolled": true
   },
   "outputs": [],
   "source": [
    "table_co.head(20)"
   ]
  },
  {
   "cell_type": "code",
   "execution_count": null,
   "metadata": {},
   "outputs": [],
   "source": [
    "#aggregate to NYC total\n",
    "table_nyc = table.groupby(['date_y-m-d']).agg({'device_count':np.sum,'completely_home_device_count':np.sum,\\\n",
    "                                                    'candidate_device_count':np.sum})\n",
    "table_nyc.head(20)"
   ]
  },
  {
   "cell_type": "code",
   "execution_count": null,
   "metadata": {
    "scrolled": true
   },
   "outputs": [],
   "source": [
    "table_co.to_excel(\"output/dara/full_candidate_device_check_borough.xlsx\")\n",
    "table_nyc.to_excel(\"output/dara/full_candidate_device_check_nyc.xlsx\")"
   ]
  }
 ],
 "metadata": {
  "kernelspec": {
   "display_name": "Python 3",
   "language": "python",
   "name": "python3"
  },
  "language_info": {
   "codemirror_mode": {
    "name": "ipython",
    "version": 3
   },
   "file_extension": ".py",
   "mimetype": "text/x-python",
   "name": "python",
   "nbconvert_exporter": "python",
   "pygments_lexer": "ipython3",
   "version": "3.8.3"
  }
 },
 "nbformat": 4,
 "nbformat_minor": 2
}
