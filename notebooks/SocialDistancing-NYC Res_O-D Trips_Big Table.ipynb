{
 "cells": [
  {
   "cell_type": "markdown",
   "metadata": {},
   "source": [
    "## Produce daily Origin-Destination trip matrix for NYC resident cbgs\n",
    "## Include time away from home buckets, and various device counts\n",
    "\n",
    "##### Output is master excel table for origin NYC boroughs by day and destinations, time away from home, and device behavior"
   ]
  },
  {
   "cell_type": "code",
   "execution_count": 1,
   "metadata": {},
   "outputs": [],
   "source": [
    "import pandas as pd\n",
    "import numpy as np\n",
    "import s3fs\n",
    "import os\n",
    "import time"
   ]
  },
  {
   "cell_type": "code",
   "execution_count": 2,
   "metadata": {},
   "outputs": [],
   "source": [
    "from geo import stco,sub\n",
    "from safegraph_py_functions import safegraph_py_functions as sgpy"
   ]
  },
  {
   "cell_type": "code",
   "execution_count": 3,
   "metadata": {},
   "outputs": [],
   "source": [
    "%load_ext dotenv\n",
    "%dotenv\n",
    "myAccessKey = os.getenv('myAccessKey')\n",
    "mySecretKey = os.getenv('mySecretKey')\n",
    "\n",
    "start = time.time()"
   ]
  },
  {
   "cell_type": "code",
   "execution_count": 4,
   "metadata": {
    "scrolled": true
   },
   "outputs": [],
   "source": [
    "pd.set_option('display.max_columns', None)\n",
    "pd.set_option('display.max_rows', None)"
   ]
  },
  {
   "cell_type": "code",
   "execution_count": 5,
   "metadata": {},
   "outputs": [],
   "source": [
    "# read nyc origin cbgs\n",
    "cbg_nyc = pd.read_csv(f'../data/nyc_cbg.csv')"
   ]
  },
  {
   "cell_type": "code",
   "execution_count": 6,
   "metadata": {},
   "outputs": [],
   "source": [
    "# specify the SG key and secret\n",
    "fs = s3fs.S3FileSystem(profile=\"safegraphws\", key=myAccessKey, secret=mySecretKey, client_kwargs={'endpoint_url': 'https://s3.wasabisys.com', 'region_name':'us-east-1'})"
   ]
  },
  {
   "cell_type": "markdown",
   "metadata": {},
   "source": [
    "## RUNNING FOR 1 MONTH ONLY, Y-o-Y COMPARISON"
   ]
  },
  {
   "cell_type": "code",
   "execution_count": 7,
   "metadata": {},
   "outputs": [],
   "source": [
    "# set date variables, in this case, a test month for 2 different years\n",
    "month = \"02\"\n",
    "years = [\"2019\",\"2020\"]\n",
    "dayList =[\"01\",\"02\",\"03\",\"04\",\"05\",\"06\",\"07\",\"08\",\"09\",\"10\",\"11\",\"12\",\"13\",\"14\",\"15\",\"16\",\"17\",\"18\",\"19\",\"20\",\"21\",\"22\",\"23\",\"24\",\"25\",\"26\",\"27\",\"28\",\"29\",\"30\",\"31\"]\n",
    "d1 = 27\n",
    "d2 = 29\n",
    "\n",
    "# If running all days and months - replace range and adjust for loop to run through lists below:\n",
    "#monthList =[\"01\",\"02\",\"03\",\"04\",\"05\",\"06\",\"07\",\"08\"]\n",
    "#dayNumList =[31, 29, 31, 30, 31, 30, 31,31] "
   ]
  },
  {
   "cell_type": "code",
   "execution_count": 10,
   "metadata": {},
   "outputs": [
    {
     "name": "stdout",
     "output_type": "stream",
     "text": [
      "2019-02-28\n",
      "2020-02-28\n",
      "2020-02-29\n"
     ]
    }
   ],
   "source": [
    "## Iterate and create pivot for home county to destination county (in region + outside)\n",
    "frames = [] \n",
    "for y in years:\n",
    "    d2 = 28 if y == '2019' else 29\n",
    "    for i in range(d1,d2):\n",
    "        with fs.open(f'sg-c19-response/social-distancing/v2/{y}/{month}/{dayList[i]}/{y}-{month}-{dayList[i]}-social-distancing.csv.gz','rb') as f:\n",
    "            print(f'{y}-{month}-{dayList[i]}')\n",
    "            # read SG's file\n",
    "            df = pd.read_csv(f, escapechar='\\\\', compression='gzip')\n",
    "            # filter NYC's Origin CBGs\n",
    "            df = pd.merge(cbg_nyc, df, left_on=\"orig_cbg\", right_on=\"origin_census_block_group\", how=\"inner\")\n",
    "\n",
    "            #unpack json destination cbgs\n",
    "            df = sgpy.unpack_json_and_merge(df, json_column='destination_cbgs', key_col_name='destination_cbg', value_col_name='dest_cbg_count')\n",
    "            \n",
    "            ##Make new columns\n",
    "            df['orig_cbg'] = df['orig_cbg'].apply(str) #clean origin cbg\n",
    "            df['date_y-m-d'] = df['date_range_start'].str[:10]\n",
    "            #separate home trips from other trips for later aggregation\n",
    "            df['is_home'] = df.apply(lambda x: x['orig_cbg']==x['destination_cbg'],axis=1)\n",
    "            #id destinations by county fips\n",
    "            df['dest_stco_all'] = df['destination_cbg'].str[:5]\n",
    "            #id 31cr counties and all others outside\n",
    "            df['dest_stco_reg'] = df['dest_stco_all'] \n",
    "            df.loc[~df['dest_stco_reg'].isin(stco),'dest_stco_reg'] = 'O31CR' \n",
    "            df['dest_sub'] = df['dest_stco_all'].map(sub).fillna('O31CR')\n",
    "\n",
    "            #Make new table with select columns\n",
    "            dff = df[['date_y-m-d','orig_stco','dest_cbg_count','dest_stco_reg','dest_sub','is_home']]\n",
    "            frames.append(dff) "
   ]
  },
  {
   "cell_type": "code",
   "execution_count": null,
   "metadata": {},
   "outputs": [],
   "source": [
    "df_dest = pd.concat(frames)\n",
    "df_dest = pd.pivot_table(df_dest,values=['dest_cbg_count'],index=['date_y-m-d','orig_stco'],columns=['dest_stco_reg','is_home'],aggfunc=np.sum,\\\n",
    "                         fill_value=0,margins=True)"
   ]
  },
  {
   "cell_type": "code",
   "execution_count": null,
   "metadata": {
    "scrolled": true
   },
   "outputs": [],
   "source": [
    "df_dest.head(10)"
   ]
  },
  {
   "cell_type": "code",
   "execution_count": null,
   "metadata": {},
   "outputs": [],
   "source": [
    "#Run an iteration to unpack the bucketed time away from home"
   ]
  },
  {
   "cell_type": "code",
   "execution_count": null,
   "metadata": {},
   "outputs": [],
   "source": [
    "frames = [] \n",
    "for y in years:\n",
    "    for i in range(d1,d2):\n",
    "        with fs.open(f'sg-c19-response/social-distancing/v2/{y}/{month}/{dayList[i]}/{y}-{month}-{dayList[i]}-social-distancing.csv.gz','rb') as f:\n",
    "            print(f'{y}-{month}-{dayList[i]}')\n",
    "            # read SG's file\n",
    "            df = pd.read_csv(f, escapechar='\\\\', compression='gzip')\n",
    "            # filter NYC's Origin CBGs\n",
    "            df = pd.merge(cbg_nyc, df, left_on=\"orig_cbg\", right_on=\"origin_census_block_group\", how=\"inner\")\n",
    "\n",
    "            #unpack json bucketed time away from home\n",
    "            df = sgpy.unpack_json_and_merge(df, json_column='bucketed_away_from_home_time', key_col_name='away_from_home_time', value_col_name='away_count')\n",
    "            \n",
    "            ##Make new columns\n",
    "            df['date_y-m-d'] = df['date_range_start'].str[:10]\n",
    "            #Make new table with select columns\n",
    "            dff = df[['date_y-m-d','orig_stco','away_from_home_time','away_count']]\n",
    "            frames.append(dff) "
   ]
  },
  {
   "cell_type": "code",
   "execution_count": null,
   "metadata": {
    "scrolled": true
   },
   "outputs": [],
   "source": [
    "df_away = pd.concat(frames)\n",
    "df_away = pd.pivot_table(df_away,values=['away_count'],index=['date_y-m-d','orig_stco'],columns=['away_from_home_time'],aggfunc=np.sum,fill_value=0,margins=True)"
   ]
  },
  {
   "cell_type": "code",
   "execution_count": null,
   "metadata": {},
   "outputs": [],
   "source": [
    "df_away.head(10)"
   ]
  },
  {
   "cell_type": "code",
   "execution_count": null,
   "metadata": {},
   "outputs": [],
   "source": [
    "# Run another iteration for just counts of devices\n",
    "#'device_count','completely_home_device_count','part_time_work_behavior_devices','full_time_work_behavior_devices',"
   ]
  },
  {
   "cell_type": "code",
   "execution_count": null,
   "metadata": {},
   "outputs": [],
   "source": [
    "frames = [] \n",
    "for y in years:\n",
    "    d2 = if y == '2019'\n",
    "    for i in range(d1,d2):\n",
    "        with fs.open(f'sg-c19-response/social-distancing/v2/{y}/{month}/{dayList[i]}/{y}-{month}-{dayList[i]}-social-distancing.csv.gz','rb') as f:\n",
    "            print(f'{y}-{month}-{dayList[i]}')\n",
    "            # read SG's file\n",
    "            df = pd.read_csv(f, escapechar='\\\\', compression='gzip')\n",
    "            # filter NYC's Origin CBGs\n",
    "            df = pd.merge(cbg_nyc, df, left_on=\"orig_cbg\", right_on=\"origin_census_block_group\", how=\"inner\")\n",
    "            \n",
    "            ##Make new columns\n",
    "            df['date_y-m-d'] = df['date_range_start'].str[:10]\n",
    "            #Make new table with select columns\n",
    "            dff = df[['date_y-m-d','orig_stco','device_count','completely_home_device_count','part_time_work_behavior_devices','full_time_work_behavior_devices']]\n",
    "            frames.append(dff)"
   ]
  },
  {
   "cell_type": "code",
   "execution_count": null,
   "metadata": {},
   "outputs": [],
   "source": [
    "df_device = pd.concat(frames)\n",
    "df_device = df_device.groupby(['date_y-m-d','orig_stco']).agg({'device_count':np.sum,'completely_home_device_count':np.sum,\\\n",
    "                                                    'part_time_work_behavior_devices':np.sum,\\\n",
    "                                                    'full_time_work_behavior_devices':np.sum})"
   ]
  },
  {
   "cell_type": "code",
   "execution_count": null,
   "metadata": {},
   "outputs": [],
   "source": [
    "#Run a concat of all three tables to make master table with origin/day index"
   ]
  },
  {
   "cell_type": "code",
   "execution_count": null,
   "metadata": {
    "scrolled": true
   },
   "outputs": [],
   "source": [
    "df_master = pd.concat([df_device,df_dest,df_away],axis=1)\n",
    "df_master = df_master.reset_index()"
   ]
  },
  {
   "cell_type": "code",
   "execution_count": null,
   "metadata": {},
   "outputs": [],
   "source": [
    "df_master.to_excel(f'output/{month}-_bigtable.xlsx')\n"
   ]
  },
  {
   "cell_type": "code",
   "execution_count": null,
   "metadata": {},
   "outputs": [],
   "source": [
    "end = time.time()\n",
    "elapsed = end - start\n",
    "print(f'Run time - {elapsed} seconds')"
   ]
  }
 ],
 "metadata": {
  "kernelspec": {
   "display_name": "Python 3",
   "language": "python",
   "name": "python3"
  },
  "language_info": {
   "codemirror_mode": {
    "name": "ipython",
    "version": 3
   },
   "file_extension": ".py",
   "mimetype": "text/x-python",
   "name": "python",
   "nbconvert_exporter": "python",
   "pygments_lexer": "ipython3",
   "version": "3.8.3"
  }
 },
 "nbformat": 4,
 "nbformat_minor": 2
}
